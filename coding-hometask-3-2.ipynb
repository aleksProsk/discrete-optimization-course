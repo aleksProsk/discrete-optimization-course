{
 "cells": [
  {
   "cell_type": "markdown",
   "metadata": {
    "collapsed": true
   },
   "source": [
    "## Задача 3-2. Задача TSP: нижняя оценка Гельда—Карпа.\n",
    "\n",
    "В этой задаче Вам предлагается релизовать алгоритм Гельда—Карпа для нижней оценки стоимости решения в задаче Euclidean TSP.\n",
    "\n",
    "Сделайте следующее:\n",
    "* Скачайте файл [`tsp-instances.zip`](https://github.com/dainiak/discrete-optimization-course/raw/master/tsp-instances.zip) и разархивируйте из него файлы со входами задачи TSP. Это в точности те же входные данные, что и в задании 3-1.\n",
    "* Реализуйте функцию `lower_bound_tsp`. При этом можно пользоваться каким-нибудь стандартным алгоритмом построения минимального остовного дерева из библиотеки [`networkx`](https://networkx.github.io/), входящей в состав дистрибутива Anaconda.\n",
    "* Запустите функцию `run_all()`, чтобы протестировать свой код, и напишите полученные, как следствия, верхние оценки погрешностей решений, которые были получены Вашими алгоритмами NN и NI при решении задания 3-1. Запишите свои выводы в 1-2 предложениях в последней ячейке ipynb-файла."
   ]
  },
  {
   "cell_type": "code",
   "execution_count": 23,
   "metadata": {
    "collapsed": true
   },
   "outputs": [],
   "source": [
    "from typing import List, Tuple\n",
    "from math import sqrt\n",
    "from itertools import combinations, islice\n",
    "\n",
    "\n",
    "def read_tsp_instance(filename: str) -> List[Tuple[int,int]]:\n",
    "    with open(filename, 'r') as file:\n",
    "        coordinates = []\n",
    "        for line in file:\n",
    "            line = line.strip().lower()\n",
    "            if line.startswith('dimension'):\n",
    "                coordinates = [(0, 0)] * int(line.split()[-1])\n",
    "            tokens = line.split()\n",
    "            if len(tokens) == 3 and tokens[0].isdecimal():\n",
    "                tokens = line.split()\n",
    "                coordinates[int(tokens[0])-1] = tuple(map(float, tokens[1:]))\n",
    "        return coordinates\n",
    "\n",
    "\n",
    "def euclidean_distance(point1: Tuple[int,int], point2: Tuple[int,int]) -> float:\n",
    "    return sqrt((point1[0]-point2[0]) ** 2 + (point1[1]-point2[1]) ** 2)"
   ]
  },
  {
   "cell_type": "code",
   "execution_count": 124,
   "metadata": {
    "collapsed": false
   },
   "outputs": [],
   "source": [
    "import networkx as nx\n",
    "\n",
    "def lower_bound_tsp(vertex_coordinates: List[Tuple[int,int]]) -> float:\n",
    "    n = len(vertex_coordinates)\n",
    "    pi = [0] * n\n",
    "    T = nx.Graph()\n",
    "    edges = []\n",
    "    alpha = 40\n",
    "    ans = 0\n",
    "    for it in range(30):\n",
    "        G = nx.Graph()\n",
    "        for i in range(0, n):\n",
    "            for j in range(i + 1, n):\n",
    "                G.add_edge(i, j, weight=euclidean_distance(vertex_coordinates[i], vertex_coordinates[j]) + pi[i] + pi[j])\n",
    "        T = nx.minimum_spanning_tree(G)\n",
    "        mi1 = 1000000007\n",
    "        mi2 = 1000000007\n",
    "        for j in range(1, n):\n",
    "            leng = euclidean_distance(vertex_coordinates[0], vertex_coordinates[j]) + pi[0] + pi[j]\n",
    "            if (leng < mi1):\n",
    "                mi2 = mi1\n",
    "                mi1 = leng\n",
    "                a = j\n",
    "            elif (leng < mi2):\n",
    "                mi2 = leng\n",
    "                b = j\n",
    "        T.add_edge(0, a, weight=euclidean_distance(vertex_coordinates[0], vertex_coordinates[a]) + pi[0] + pi[a])\n",
    "        T.add_edge(0, b, weight=euclidean_distance(vertex_coordinates[0], vertex_coordinates[b]) + pi[0] + pi[b])\n",
    "        edges = T.edges(data=False)\n",
    "        deg = [0] * n\n",
    "        for i in range(len(edges)):\n",
    "            deg[edges[i][0]] += 1\n",
    "            deg[edges[i][1]] += 1\n",
    "        sum = 0\n",
    "        edges = T.edges(data=True)\n",
    "        for i in range(len(edges)):\n",
    "            sum += edges[i][2]['weight'] - pi[edges[i][0]] - pi[edges[i][1]]\n",
    "        ans = max(ans, sum)\n",
    "        for i in range(0, n):\n",
    "             pi[i] += (deg[i] - 2) * alpha / (it + 1)\n",
    "    \n",
    "    return ans"
   ]
  },
  {
   "cell_type": "code",
   "execution_count": 118,
   "metadata": {
    "collapsed": true
   },
   "outputs": [],
   "source": [
    "import time\n",
    "from os.path import exists\n",
    "\n",
    "def run_all():\n",
    "    instance_filenames = ['d198.tsp', 'd493.tsp', 'd657.tsp', 'd2103.tsp', 'pr107.tsp', 'pr152.tsp', 'pr439.tsp']\n",
    "    for filename in instance_filenames:\n",
    "        if not exists(filename):\n",
    "            print('File not found: “{}”. Skipping this instance.'.format(filename))\n",
    "            continue\n",
    "        instance = read_tsp_instance(filename)\n",
    "        print('Instance {}…'.format(filename), end='')\n",
    "        time_start = time.monotonic()\n",
    "        bound = lower_bound_tsp(instance)\n",
    "        time_nn = time.monotonic()-time_start\n",
    "        print(' done in {:.2} seconds with lower bound {}'.format(time_nn, int(bound)))"
   ]
  },
  {
   "cell_type": "code",
   "execution_count": 125,
   "metadata": {
    "collapsed": false
   },
   "outputs": [
    {
     "name": "stdout",
     "output_type": "stream",
     "text": [
      "Instance d198.tsp… done in 1.8e+01 seconds with lower bound 15417\n",
      "Instance d493.tsp… done in 9.8e+01 seconds with lower bound 37128\n",
      "Instance d657.tsp… done in 1.7e+02 seconds with lower bound 52114\n",
      "Instance d2103.tsp… done in 1.9e+03 seconds with lower bound 82747\n",
      "Instance pr107.tsp… done in 3.9 seconds with lower bound 37868\n",
      "Instance pr152.tsp… done in 7.8 seconds with lower bound 61694\n",
      "Instance pr439.tsp… done in 7.1e+01 seconds with lower bound 96113\n"
     ]
    }
   ],
   "source": [
    "run_all()"
   ]
  },
  {
   "cell_type": "markdown",
   "metadata": {},
   "source": [
    "**Верхние оценки из решения задачи 3-1:**\n",
    "\n",
    "Solving instance d198.tsp… done with tour length 18620 using NN and tour length 18052 using NI\n",
    "\n",
    "Solving instance d493.tsp… done with tour length 43646 using NN and with tour length 41576 using NI\n",
    "\n",
    "Solving instance d657.tsp… done with tour length 62176 using NN and with tour length 60195 using NI\n",
    "\n",
    "Solving instance d2103.tsp… done with tour length 87468 using NN and with tour length 86027 using NI\n",
    "\n",
    "Solving instance pr107.tsp… done with tour length 46678 using NN and with tour length 53211 using NI\n",
    "\n",
    "Solving instance pr152.tsp… done with tour length 85702 using NN and with tour length 86914 using NI\n",
    "\n",
    "Solving instance pr439.tsp… done with tour length 131282 using NN and with tour length 132780 using NI"
   ]
  },
  {
   "cell_type": "markdown",
   "metadata": {},
   "source": [
    "## Выводы\n",
    "Алгоритмы NN и NI решают задачу TSP достаточно эффективно, так как, как мы можем видеть, их результаты не более чем в 1.4 раза больше, чем оценка Гельда—Карпа."
   ]
  }
 ],
 "metadata": {
  "kernelspec": {
   "display_name": "Python 3",
   "language": "python",
   "name": "python3"
  },
  "language_info": {
   "codemirror_mode": {
    "name": "ipython",
    "version": 3
   },
   "file_extension": ".py",
   "mimetype": "text/x-python",
   "name": "python",
   "nbconvert_exporter": "python",
   "pygments_lexer": "ipython3",
   "version": "3.6.0"
  }
 },
 "nbformat": 4,
 "nbformat_minor": 1
}
