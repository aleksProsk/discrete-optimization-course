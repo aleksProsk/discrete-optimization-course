{
 "cells": [
  {
   "cell_type": "markdown",
   "metadata": {
    "deletable": true,
    "editable": true
   },
   "source": [
    "# Задание по курсу «Дискретная оптимизация», МФТИ, весна 2017"
   ]
  },
  {
   "cell_type": "markdown",
   "metadata": {
    "collapsed": true,
    "deletable": true,
    "editable": true
   },
   "source": [
    "## Задача 3-1. Задача TSP: инкрементальные алгоритмы.\n",
    "\n",
    "В этой задаче Вам предлагается сравнить алгоритмы Nearest Neighbour и Nearest Insertion в задаче Euclidean TSP.\n",
    "\n",
    "**Даны:**\n",
    "* Координаты точек плоскости, являющихся вершинами графа.\n",
    "\n",
    "**Найти:**\n",
    "* Перестановку вершин, задающих минимальный по длине гамильтонов цикл в графе.\n",
    "\n",
    "Сделайте следующее:\n",
    "* Скачайте файл [`tsp-instances.zip`](https://github.com/dainiak/discrete-optimization-course/raw/master/tsp-instances.zip) и разархивируйте из него файлы со входами задачи TSP.\n",
    "* Реализуйте функции `solve_tsp_nearest_neighbour` и `solve_tsp_nearest_insertion`.\n",
    "* Запустите функцию `run_all()`, чтобы протестировать свой код и сравнить качество решений, получаемых Nearest Neighbour и Nearest Insertion. Сильно ли они отличаются? Запишите свои качественные выводы в 1-2 предложениях в последней ячейке ipynb-файла."
   ]
  },
  {
   "cell_type": "code",
   "execution_count": 6,
   "metadata": {
    "collapsed": true,
    "deletable": true,
    "editable": true
   },
   "outputs": [],
   "source": [
    "def read_tsp_instance(filename):\n",
    "    with open(filename, 'r') as file:\n",
    "        coordinates = []\n",
    "        for line in file:\n",
    "            line = line.strip().lower()\n",
    "            if line.startswith('dimension'):\n",
    "                coordinates = [(0,0)] * int(line.split()[-1])\n",
    "            tokens = line.split()\n",
    "            if len(tokens) == 3 and tokens[0].isdecimal():\n",
    "                tokens = line.split()\n",
    "                coordinates[int(tokens[0])-1] = tuple(map(float, tokens[1:]))\n",
    "        return coordinates\n",
    "\n",
    "from math import sqrt\n",
    "\n",
    "def euclidean_distance(point1, point2):\n",
    "    return sqrt((point1[0]-point2[0]) ** 2 + (point1[1]-point2[1]) ** 2)\n",
    "    \n",
    "def calculate_tour_length(instance, permutation):\n",
    "    n = len(permutation)\n",
    "    return sum(euclidean_distance(instance[permutation[i]], instance[permutation[(i+1) % n]]) for i in range(len(permutation)))"
   ]
  },
  {
   "cell_type": "code",
   "execution_count": 10,
   "metadata": {
    "collapsed": false,
    "deletable": true,
    "editable": true
   },
   "outputs": [],
   "source": [
    "def solve_tsp_nearest_neighbour(instance):\n",
    "    n = len(instance)\n",
    "    tour = []\n",
    "    was = [0] * n\n",
    "    cur = instance[0]\n",
    "    tour.append(0)\n",
    "    was[0] = 1\n",
    "    for i in range(n - 1):\n",
    "        mi = -1\n",
    "        num = 0\n",
    "        for ver in range(n):\n",
    "            if (was[ver] == 1):\n",
    "                continue\n",
    "            dst = euclidean_distance(cur, instance[ver])\n",
    "            if (mi == -1 or mi > dst):\n",
    "                mi = dst\n",
    "                num = ver\n",
    "        tour.append(num)\n",
    "        was[num] = 1\n",
    "        cur = instance[num]\n",
    "    return tour"
   ]
  },
  {
   "cell_type": "code",
   "execution_count": 21,
   "metadata": {
    "collapsed": true,
    "deletable": true,
    "editable": true
   },
   "outputs": [],
   "source": [
    "def solve_tsp_nearest_insertion(instance):\n",
    "    n = len(instance)\n",
    "    tour = []\n",
    "    was = [0] * n\n",
    "    cur = instance[0]\n",
    "    tour.append(0)\n",
    "    was[0] = 1\n",
    "    for i in range(n - 1):\n",
    "        gdst = -1\n",
    "        num = 0\n",
    "        for ver in range(n):\n",
    "            if (was[ver] == 1):\n",
    "                continue\n",
    "            mdst = -1\n",
    "            for j in range(len(tour)):\n",
    "                dst = euclidean_distance(instance[ver], instance[tour[j]])\n",
    "                if (mdst == -1 or dst < mdst):\n",
    "                    mdst = dst\n",
    "            if (gdst == -1 or mdst < gdst):\n",
    "                gdst = mdst\n",
    "                num = ver\n",
    "        md = -1\n",
    "        pos = -1\n",
    "        if (len(tour) == 1):\n",
    "            was[num] = 1\n",
    "            tour.append(num)\n",
    "            continue\n",
    "        for j in range(len(tour)):\n",
    "            da = euclidean_distance(instance[tour[j]], instance[num])\n",
    "            db = euclidean_distance(instance[num], instance[tour[(j + 1) % len(tour)]])\n",
    "            dc = euclidean_distance(instance[tour[j]], instance[tour[(j + 1) % len(tour)]])\n",
    "            if (md == -1 or md > da + db - dc):\n",
    "                md = da + db - dc\n",
    "                pos = j\n",
    "        tour = tour[0:(pos + 1)] + [num] + tour[(pos + 1):len(tour)]\n",
    "        was[num] = 1\n",
    "    return tour"
   ]
  },
  {
   "cell_type": "code",
   "execution_count": 13,
   "metadata": {
    "collapsed": false,
    "deletable": true,
    "editable": true
   },
   "outputs": [],
   "source": [
    "import time\n",
    "from os.path import exists\n",
    "\n",
    "def run_all():\n",
    "    instance_filenames = ['d198.tsp', 'd493.tsp', 'd657.tsp', 'd2103.tsp', 'pr107.tsp', 'pr152.tsp', 'pr439.tsp']\n",
    "    for filename in instance_filenames:\n",
    "        if not exists(filename):\n",
    "            print('File not found: “{}”. Skipping this instance.'.format(filename))\n",
    "            continue\n",
    "        instance = read_tsp_instance(filename)\n",
    "        print('Solving instance {}…'.format(filename), end='')\n",
    "        time_start = time.monotonic()\n",
    "        quality_nn = calculate_tour_length(instance, solve_tsp_nearest_neighbour(instance))\n",
    "        time_nn = time.monotonic()-time_start\n",
    "        time_start = time.monotonic()\n",
    "        quality_ni = calculate_tour_length(instance, solve_tsp_nearest_insertion(instance))\n",
    "        time_ni = time.monotonic()-time_start\n",
    "        print(' done in {:.2} seconds with tour length {} using NN and in {:.2} seconds with tour length {} using NI'.format(time_nn, int(quality_nn), time_ni, int(quality_ni)))"
   ]
  },
  {
   "cell_type": "code",
   "execution_count": 22,
   "metadata": {
    "collapsed": false,
    "deletable": true,
    "editable": true
   },
   "outputs": [
    {
     "name": "stdout",
     "output_type": "stream",
     "text": [
      "Solving instance d198.tsp… done in 0.11 seconds with tour length 18620 using NN and in 3.9 seconds with tour length 18052 using NI\n",
      "Solving instance d493.tsp… done in 0.31 seconds with tour length 43646 using NN and in 6.2e+01 seconds with tour length 41576 using NI\n",
      "Solving instance d657.tsp… done in 0.61 seconds with tour length 62176 using NN and in 1.5e+02 seconds with tour length 60195 using NI\n",
      "Solving instance d2103.tsp… done in 7.8 seconds with tour length 87468 using NN and in 4.1e+03 seconds with tour length 86027 using NI\n",
      "Solving instance pr107.tsp… done in 0.016 seconds with tour length 46678 using NN and in 0.5 seconds with tour length 53211 using NI\n",
      "Solving instance pr152.tsp… done in 0.016 seconds with tour length 85702 using NN and in 1.4 seconds with tour length 86914 using NI\n",
      "Solving instance pr439.tsp… done in 0.25 seconds with tour length 131282 using NN and in 4.6e+01 seconds with tour length 132780 using NI\n"
     ]
    }
   ],
   "source": [
    "run_all()"
   ]
  },
  {
   "cell_type": "markdown",
   "metadata": {
    "collapsed": true,
    "deletable": true,
    "editable": true
   },
   "source": [
    "## Выводы\n",
    "Как видно по результатам выполнения программы на предоставленных тестах, алгоритм Nearest Insertion находит лучший ответ в большем количестве случаев, но его ответ лучше лишь незначительно и работает он на порядок дольше, чем Nearest Neighbour."
   ]
  }
 ],
 "metadata": {
  "kernelspec": {
   "display_name": "Python 3",
   "language": "python",
   "name": "python3"
  },
  "language_info": {
   "codemirror_mode": {
    "name": "ipython",
    "version": 3
   },
   "file_extension": ".py",
   "mimetype": "text/x-python",
   "name": "python",
   "nbconvert_exporter": "python",
   "pygments_lexer": "ipython3",
   "version": "3.6.0"
  }
 },
 "nbformat": 4,
 "nbformat_minor": 2
}
