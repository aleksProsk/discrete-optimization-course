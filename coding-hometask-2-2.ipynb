{
 "cells": [
  {
   "cell_type": "markdown",
   "metadata": {
    "deletable": true,
    "editable": true
   },
   "source": [
    "# Задание по курсу «Дискретная оптимизация», МФТИ, весна 2017"
   ]
  },
  {
   "cell_type": "markdown",
   "metadata": {
    "deletable": true,
    "editable": true
   },
   "source": [
    "## Задача 2-2. Эвристика Кернигана—Лина\n",
    "\n",
    "В этой задаче Вам предлагается добавить к локальному поиска в задаче о сбалансированном разбиении графа эвристику Кернигана—Лина, когда мы, «застряв» в локальном минимуме, тем не менее пытаемся сделать несколько шагов из него, даже если они приводят к временному ухудшению. Надежда здесь на то, что после ухудшения может наступить заметное улучшение результата: нам удастся выпрыгнуть из локального оптимума. Мы рассматриваем безвесовый вариант задачи о разбиении с параметром балансировки $\\alpha=\\frac{1}{2}$:\n",
    "\n",
    "**Даны:**\n",
    "* $G=(V,E)$ — граф без весов на рёбрах\n",
    "\n",
    "**Найти:**\n",
    "* Разбиение $V=V'\\sqcup V''$, такое, что $V'=\\lfloor |V|/2 \\rfloor$ и число рёбер между $V'$ и $V''$ минимально возможное.\n",
    "\n",
    "Сделайте следующее:\n",
    "* Скачайте файл [`partition-instances.zip`](https://github.com/dainiak/discrete-optimization-course/raw/master/partition-instances.zip) и разархивируйте из него файлы со входами задачи.\n",
    "* Для каждого из графов найдите локальным поиском с эвристикой Кернигана—Лина локально минимальное (по количеству рёбер между частями) разбиение вершин графа на две части, мощности которых отличаются не более чем на единицу. \n",
    "* Реализуйте функцию `variable_depth_local_search`; она должна принимать на вход граф в формате, предоставляемом функцией `read_instance`, и возвращать найденное разбиение как множество вершин, лежащих в одной любой из двух компонент разбиения. Ваш локальный поиск должен начинаться с того разбиение, которое уже находится в переменной `starting_point`.\n",
    "* Подберите для каждого из четырёх входных графов глубину поиска так, чтобы он работал не более 60 секунд на Вашем компьютере, и сохраните информацию о подобранных параметрах и любые свои интересные наблюдения в отдельную ячейку настоящего ipynb-файла."
   ]
  },
  {
   "cell_type": "code",
   "execution_count": 1,
   "metadata": {
    "collapsed": true,
    "deletable": true,
    "editable": true
   },
   "outputs": [],
   "source": [
    "def read_instance(filename):\n",
    "    with open(filename, 'r') as file:\n",
    "        n_vertices = int(file.readline().strip().split()[0])\n",
    "        vertices, edges = set(range(1, n_vertices + 1)), set()\n",
    "        for u in range(1, n_vertices + 1):\n",
    "            for v in map(int, file.readline().strip().split()):\n",
    "                edges.add((u,v))\n",
    "        return (vertices, edges)"
   ]
  },
  {
   "cell_type": "code",
   "execution_count": 87,
   "metadata": {
    "collapsed": false,
    "deletable": true,
    "editable": true
   },
   "outputs": [],
   "source": [
    "import random\n",
    "magic = 1000\n",
    "magic1 = 50\n",
    "\n",
    "def variable_depth_local_search(graph, it):\n",
    "    first = list(range(1, len(graph[0]) // 2 + 1))\n",
    "    second = list(set(graph[0]) - set(first))\n",
    "    start = 0\n",
    "    v = []\n",
    "    n = len(graph[0])\n",
    "    for i in range(n + 1):\n",
    "        v.append([])\n",
    "    edges = list(graph[1])\n",
    "    for i in range(len(edges)):\n",
    "        v[edges[i][0]].append(edges[i][1])\n",
    "    num = [0] * (n + 1)\n",
    "    for i in range(len(first)):\n",
    "        num[first[i]] = 1\n",
    "    for i in range(len(second)):\n",
    "        num[second[i]] = 2\n",
    "    for i in range(len(first)):\n",
    "        for j in range(len(v[first[i]])):\n",
    "            if (num[v[first[i]][j]] == 2):\n",
    "                start += 2\n",
    "    ans = start\n",
    "    anslst = []\n",
    "    for i in range(len(first)):\n",
    "        anslst.append(first[i])\n",
    "    it2 = 0\n",
    "    it1 = 0\n",
    "    for ii in range(it):\n",
    "        pos1 = random.randint(0, len(first) - 1)\n",
    "        pos2 = random.randint(0, len(second) - 1)\n",
    "        delta = 0\n",
    "        for i in range(len(v[first[pos1]])):\n",
    "            if (num[v[first[pos1]][i]] == 2):\n",
    "                delta -= 2\n",
    "            else:\n",
    "                delta += 2\n",
    "            if (v[first[pos1]][i] == second[pos2]):\n",
    "                delta += 2\n",
    "        for i in range(len(v[second[pos2]])):\n",
    "            if (num[v[second[pos2]][i]] == 1):\n",
    "                delta -= 2\n",
    "            else:\n",
    "                delta += 2\n",
    "            if (v[second[pos2]][i] == first[pos1]):\n",
    "                delta += 2\n",
    "        if (delta < 0 or it2 > 0):\n",
    "            start += delta\n",
    "            it1 = 0\n",
    "            first[pos1], second[pos2] = second[pos2], first[pos1]\n",
    "            num[first[pos1]] = 1\n",
    "            num[second[pos2]] = 2\n",
    "            if (delta < 0):\n",
    "                it2 = 0\n",
    "            else:\n",
    "                it2 -= 1\n",
    "            if (start < ans):\n",
    "                ans = start\n",
    "                anslst = []\n",
    "                for i in range(len(first)):\n",
    "                    anslst.append(first[i])\n",
    "        else:\n",
    "            it1 += 1\n",
    "            if (it1 == magic):\n",
    "                it2 = magic1\n",
    "    return set(anslst)"
   ]
  },
  {
   "cell_type": "code",
   "execution_count": 99,
   "metadata": {
    "collapsed": false
   },
   "outputs": [],
   "source": [
    "import time\n",
    "\n",
    "def get_quality(graph, partition_part):\n",
    "    if not (partition_part <= graph[0]) or abs(len(partition_part) - len(graph[0]) / 2) > 0.6:\n",
    "        return -1\n",
    "    other_part = set(graph[0]) - partition_part\n",
    "    return sum(1 for edge in graph[1] if set(edge) <= partition_part or set(edge) <= other_part )\n",
    "\n",
    "def run_all():\n",
    "    filenames = ['add20.graph', 'cti.graph', 't60k.graph', 'm14b.graph']\n",
    "    numit = [2220000, 2220000, 2600000, 77000]\n",
    "    i = 0\n",
    "    for filename in filenames:\n",
    "        instance = read_instance(filename)\n",
    "        print('Solving instance {}…'.format(filename), end='')\n",
    "        time_start = time.monotonic()\n",
    "        quality = get_quality(instance, variable_depth_local_search(instance, numit[i]))\n",
    "        time_elapsed = time.monotonic()-time_start\n",
    "        print(' done in {:.2} seconds with quality {}'.format(time_elapsed, quality))\n",
    "        i += 1"
   ]
  },
  {
   "cell_type": "code",
   "execution_count": 100,
   "metadata": {
    "collapsed": false
   },
   "outputs": [
    {
     "name": "stdout",
     "output_type": "stream",
     "text": [
      "Solving instance add20.graph… done in 5.5e+01 seconds with quality 13066\n",
      "Solving instance cti.graph… done in 5.6e+01 seconds with quality 94052\n",
      "Solving instance t60k.graph… done in 5.3e+01 seconds with quality 178236\n",
      "Solving instance m14b.graph… done in 6.2e+01 seconds with quality 2901188\n"
     ]
    }
   ],
   "source": [
    "run_all()"
   ]
  },
  {
   "cell_type": "markdown",
   "metadata": {},
   "source": [
    "## Выводы\n",
    "Как видно, на первом и на четвертом тесте ответ улучшился, а на втором и третьем тесте ответ улучшить не получается. Я провел также серию запусков программы со случайными стартовыми долями, но это также не привело  улучшению ответа, значит, скорее всего, во втором и третьем тесте найденный ответ достаточно оптимален. Также с помощью нескольких запусков я подобрал оптимальные контанты для своего решения на первом и четвертом тесте."
   ]
  }
 ],
 "metadata": {
  "kernelspec": {
   "display_name": "Python 3",
   "language": "python",
   "name": "python3"
  },
  "language_info": {
   "codemirror_mode": {
    "name": "ipython",
    "version": 3
   },
   "file_extension": ".py",
   "mimetype": "text/x-python",
   "name": "python",
   "nbconvert_exporter": "python",
   "pygments_lexer": "ipython3",
   "version": "3.6.0"
  }
 },
 "nbformat": 4,
 "nbformat_minor": 2
}
