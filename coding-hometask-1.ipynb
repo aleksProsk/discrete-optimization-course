{
 "cells": [
  {
   "cell_type": "markdown",
   "metadata": {
    "deletable": true,
    "editable": true
   },
   "source": [
    "# Задание по курсу «Дискретная оптимизация», МФТИ, весна 2017"
   ]
  },
  {
   "cell_type": "markdown",
   "metadata": {
    "deletable": true,
    "editable": true
   },
   "source": [
    "## Задача 1-1\n",
    "## Учимся переводить между decision/evaluation/search на примере Bin Packing\n",
    "\n",
    "**Даны:** \n",
    "* $[w_1, \\dots , w_k], w_i \\in [0, 1]$ — веса грузов  \n",
    "* $n_{\\text{bins}}$ — количество корзин грузоподъемностью 1.\n",
    "\n",
    "Предполагается, что функция `solve_bp_decision(weights, n_bins)` решает «распознавательный» (decision) вариант задачи bin packing. На вход ей подаётся список весов и число корзин. Функция возвращает булевский ответ на вопрос «можно ли заданные веса раскидать по не более чем `n_bins` контейнерам? \n",
    "\n",
    "Напишите содержимое функции `solve_bp_evaluation`, которая возвращает оптимальное число корзин (решает evaluation variant задачи bin packing). \n",
    "\n",
    "Затем напишите содержимое функции `solve_bp_search`, которая возвращает список номеров корзин, которые при каком-нибудь оптимальном распределении присваиваются весам из списка `weights` (корзины нумеруются с единицы). \n",
    "\n",
    "Каждая из следующих функций должна вызывать предыдущую не более чем полиномиальное число раз."
   ]
  },
  {
   "cell_type": "code",
   "execution_count": 56,
   "metadata": {
    "collapsed": false
   },
   "outputs": [],
   "source": [
    "#eps was added, because some tests worked incorrectly (for example [0.65, 0.3, 0.1, 0.05, 0.9])\n",
    "eps = 1e-9\n",
    "\n",
    "def solve_bp_decision(weights: list, n_bins: int) -> bool:\n",
    "    def able_to_pack(weights: list, bin_capacities) -> bool:\n",
    "        return weights == [] or any( \n",
    "            able_to_pack( weights[:-1], bin_capacities[:i] + [capacity - weights[-1]] + bin_capacities[(i + 1):] ) \n",
    "            for i, capacity in enumerate(bin_capacities) if (capacity - weights[-1]) > eps or abs(capacity - weights[-1]) < eps \n",
    "        )\n",
    "    return able_to_pack( sorted(weights), [1.0] * n_bins )\n",
    "\n",
    "# To test this, run:\n",
    "#solve_bp_decision([0.65, 0.3, 0.1, 0.05, 0.9], 2)\n",
    "# solve_bp_decision([0.8, 0.09, 0.4, 0.7], 3)"
   ]
  },
  {
   "cell_type": "code",
   "execution_count": 57,
   "metadata": {
    "collapsed": false
   },
   "outputs": [],
   "source": [
    "def solve_bp_evaluation(weights: list) -> int:\n",
    "    if (len(weights) == 0):\n",
    "        return 0\n",
    "    l = 0\n",
    "    r = len(weights)\n",
    "    while (r - l > 1):\n",
    "        c = (l + r) // 2\n",
    "        if (solve_bp_decision(weights, c) == False):\n",
    "            l = c\n",
    "        else:\n",
    "            r = c\n",
    "    return r\n",
    "    \n",
    "#solve_bp_evaluation([0.8, 0.09, 0.4, 0.7])"
   ]
  },
  {
   "cell_type": "code",
   "execution_count": 58,
   "metadata": {
    "collapsed": false
   },
   "outputs": [],
   "source": [
    "p = []\n",
    "\n",
    "def getp(ver):\n",
    "    if (p[ver] == ver):\n",
    "        return ver\n",
    "    tans = getp(p[ver])\n",
    "    p[ver] = tans\n",
    "    return tans\n",
    "\n",
    "def unite(a, b):\n",
    "    a = getp(a)\n",
    "    b = getp(b)\n",
    "    if (a == b):\n",
    "        return\n",
    "    p[a] = b\n",
    "    return\n",
    "\n",
    "def solve_bp_search(weights: list):\n",
    "    ret = []\n",
    "    was = []\n",
    "    ans = []\n",
    "    gans = solve_bp_evaluation(weights)\n",
    "    for i in range(len(weights)):\n",
    "        p.append(i)\n",
    "        ret.append(0)\n",
    "        was.append(0)\n",
    "        ans.append(0)\n",
    "    it = 0\n",
    "    for i in range(len(weights)):\n",
    "        if (was[i] == 1):\n",
    "            continue\n",
    "        for j in range(i + 1, len(weights)):\n",
    "            if (was[j] == 1):\n",
    "                continue\n",
    "            tmp = weights[j]\n",
    "            if ((weights[i] + tmp - 1.0) > eps):\n",
    "                continue\n",
    "            weights[i] += tmp\n",
    "            weights[j] = 0\n",
    "            tans = solve_bp_evaluation(weights)\n",
    "            if (tans == gans):\n",
    "                unite(i, j)\n",
    "                was[j] = 1\n",
    "            else:\n",
    "                weights[j] = tmp\n",
    "                weights[i] -= tmp\n",
    "    for i in range(len(weights)):\n",
    "        num = getp(i)\n",
    "        if (ans[num] == 0):\n",
    "            it += 1\n",
    "            ans[num] = it\n",
    "            ret[i] = it\n",
    "        else:\n",
    "            ret[i] = ans[num]\n",
    "    return ret\n",
    "\n",
    "#solve_bp_search([0.65, 0.3, 0.1, 0.05, 0.9])"
   ]
  }
 ],
 "metadata": {
  "kernelspec": {
   "display_name": "Python 3",
   "language": "python",
   "name": "python3"
  },
  "language_info": {
   "codemirror_mode": {
    "name": "ipython",
    "version": 3
   },
   "file_extension": ".py",
   "mimetype": "text/x-python",
   "name": "python",
   "nbconvert_exporter": "python",
   "pygments_lexer": "ipython3",
   "version": "3.6.0"
  }
 },
 "nbformat": 4,
 "nbformat_minor": 0
}
